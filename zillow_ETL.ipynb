{
 "cells": [
  {
   "cell_type": "code",
   "execution_count": 1,
   "metadata": {},
   "outputs": [],
   "source": [
    "import json\n",
    "import pandas as pd\n",
    "import numpy as np\n",
    "import re\n",
    "from sqlalchemy import create_engine\n",
    "import psycopg2\n",
    "from config import db_password\n",
    "import time"
   ]
  },
  {
   "cell_type": "code",
   "execution_count": 2,
   "metadata": {},
   "outputs": [],
   "source": [
    "def ETL(state):\n",
    "    zillow_df = pd.read_csv('Resources/Zillow_Sale_Prices_Zip.csv')\n",
    "    zillow_df.set_index('RegionName', inplace=True)\n",
    "    state_df = zillow_df.loc[zillow_df.StateName==state,:]\n",
    "    state_df = state_df.dropna()\n",
    "    median09 = state_df.loc[:,'2009-01':'2009-12'].median(axis = 1, skipna = True)\n",
    "    median19 = state_df.loc[:,'2019-01':'2019-12'].median(axis = 1, skipna = True)\n",
    "    new_df=pd.concat([median09, median19], axis=1)\n",
    "    new_name= ['Median Price 2009','Median Price 2019']\n",
    "    new_df.columns=new_name\n",
    "    new_df['Inflated Median Price 2009'] = 1.1917 * new_df['Median Price 2009']\n",
    "    new_df['Percent Change'] = (new_df['Median Price 2019'] - new_df['Inflated Median Price 2009'])/new_df['Inflated Median Price 2009']\n",
    "    new_df = new_df[['Median Price 2009','Inflated Median Price 2009','Median Price 2019','Percent Change']]\n",
    "    new_df['Median Price 2009'] = new_df['Median Price 2009'].map(\"${:,.2f}\".format)\n",
    "    new_df['Inflated Median Price 2009'] = new_df['Inflated Median Price 2009'].map(\"${:,.2f}\".format)\n",
    "    new_df['Median Price 2019'] = new_df['Median Price 2019'].map(\"${:,.2f}\".format)\n",
    "    new_df['Percent Change'] = new_df['Percent Change'].map(\"{:.2%}\".format)\n",
    "    \n",
    "    return new_df.head()"
   ]
  },
  {
   "cell_type": "code",
   "execution_count": 3,
   "metadata": {},
   "outputs": [
    {
     "data": {
      "text/html": [
       "<div>\n",
       "<style scoped>\n",
       "    .dataframe tbody tr th:only-of-type {\n",
       "        vertical-align: middle;\n",
       "    }\n",
       "\n",
       "    .dataframe tbody tr th {\n",
       "        vertical-align: top;\n",
       "    }\n",
       "\n",
       "    .dataframe thead th {\n",
       "        text-align: right;\n",
       "    }\n",
       "</style>\n",
       "<table border=\"1\" class=\"dataframe\">\n",
       "  <thead>\n",
       "    <tr style=\"text-align: right;\">\n",
       "      <th></th>\n",
       "      <th>Median Price 2009</th>\n",
       "      <th>Inflated Median Price 2009</th>\n",
       "      <th>Median Price 2019</th>\n",
       "      <th>Percent Change</th>\n",
       "    </tr>\n",
       "    <tr>\n",
       "      <th>RegionName</th>\n",
       "      <th></th>\n",
       "      <th></th>\n",
       "      <th></th>\n",
       "      <th></th>\n",
       "    </tr>\n",
       "  </thead>\n",
       "  <tbody>\n",
       "    <tr>\n",
       "      <td>90002</td>\n",
       "      <td>$126,300.00</td>\n",
       "      <td>$150,511.71</td>\n",
       "      <td>$390,150.00</td>\n",
       "      <td>159.22%</td>\n",
       "    </tr>\n",
       "    <tr>\n",
       "      <td>90016</td>\n",
       "      <td>$275,300.00</td>\n",
       "      <td>$328,075.01</td>\n",
       "      <td>$741,600.00</td>\n",
       "      <td>126.05%</td>\n",
       "    </tr>\n",
       "    <tr>\n",
       "      <td>90025</td>\n",
       "      <td>$616,700.00</td>\n",
       "      <td>$734,921.39</td>\n",
       "      <td>$947,900.00</td>\n",
       "      <td>28.98%</td>\n",
       "    </tr>\n",
       "    <tr>\n",
       "      <td>90032</td>\n",
       "      <td>$239,550.00</td>\n",
       "      <td>$285,471.73</td>\n",
       "      <td>$616,650.00</td>\n",
       "      <td>116.01%</td>\n",
       "    </tr>\n",
       "    <tr>\n",
       "      <td>90039</td>\n",
       "      <td>$552,300.00</td>\n",
       "      <td>$658,175.91</td>\n",
       "      <td>$1,080,600.00</td>\n",
       "      <td>64.18%</td>\n",
       "    </tr>\n",
       "  </tbody>\n",
       "</table>\n",
       "</div>"
      ],
      "text/plain": [
       "           Median Price 2009 Inflated Median Price 2009 Median Price 2019  \\\n",
       "RegionName                                                                  \n",
       "90002            $126,300.00                $150,511.71       $390,150.00   \n",
       "90016            $275,300.00                $328,075.01       $741,600.00   \n",
       "90025            $616,700.00                $734,921.39       $947,900.00   \n",
       "90032            $239,550.00                $285,471.73       $616,650.00   \n",
       "90039            $552,300.00                $658,175.91     $1,080,600.00   \n",
       "\n",
       "           Percent Change  \n",
       "RegionName                 \n",
       "90002             159.22%  \n",
       "90016             126.05%  \n",
       "90025              28.98%  \n",
       "90032             116.01%  \n",
       "90039              64.18%  "
      ]
     },
     "execution_count": 3,
     "metadata": {},
     "output_type": "execute_result"
    }
   ],
   "source": [
    "ETL('California')"
   ]
  },
  {
   "cell_type": "code",
   "execution_count": 6,
   "metadata": {},
   "outputs": [
    {
     "ename": "NameError",
     "evalue": "name 'new_df' is not defined",
     "output_type": "error",
     "traceback": [
      "\u001b[0;31m---------------------------------------------------------------------------\u001b[0m",
      "\u001b[0;31mNameError\u001b[0m                                 Traceback (most recent call last)",
      "\u001b[0;32m<ipython-input-6-58ad22e406d5>\u001b[0m in \u001b[0;36m<module>\u001b[0;34m\u001b[0m\n\u001b[0;32m----> 1\u001b[0;31m \u001b[0mnew_df\u001b[0m\u001b[0;34m.\u001b[0m\u001b[0mhead\u001b[0m\u001b[0;34m(\u001b[0m\u001b[0;34m)\u001b[0m\u001b[0;34m\u001b[0m\u001b[0;34m\u001b[0m\u001b[0m\n\u001b[0m",
      "\u001b[0;31mNameError\u001b[0m: name 'new_df' is not defined"
     ]
    }
   ],
   "source": [
    "new_df.head()"
   ]
  },
  {
   "cell_type": "code",
   "execution_count": 7,
   "metadata": {},
   "outputs": [],
   "source": [
    "def ETLCSV(state):\n",
    "    zillow_df = pd.read_csv('Resources/Zillow_Sale_Prices_Zip.csv')\n",
    "    zillow_df.set_index('RegionName', inplace=True)\n",
    "    state_df = zillow_df.loc[zillow_df.StateName==state,:]\n",
    "    state_df = state_df.dropna()\n",
    "    median09 = state_df.loc[:,'2009-01':'2009-12'].median(axis = 1, skipna = True)\n",
    "    median19 = state_df.loc[:,'2019-01':'2019-12'].median(axis = 1, skipna = True)\n",
    "    new_df=pd.concat([median09, median19], axis=1)\n",
    "    new_name= ['Median Price 2009','Median Price 2019']\n",
    "    new_df.columns=new_name\n",
    "    new_df['Inflated Median Price 2009'] = 1.1917 * new_df['Median Price 2009']\n",
    "    new_df['Percent Change'] = (new_df['Median Price 2019'] - new_df['Inflated Median Price 2009'])/new_df['Inflated Median Price 2009']\n",
    "    new_df = new_df[['Median Price 2009','Inflated Median Price 2009','Median Price 2019','Percent Change']]\n",
    "    new_df['Median Price 2009'] = new_df['Median Price 2009'].map(\"${:,.2f}\".format)\n",
    "    new_df['Inflated Median Price 2009'] = new_df['Inflated Median Price 2009'].map(\"${:,.2f}\".format)\n",
    "    new_df['Median Price 2019'] = new_df['Median Price 2019'].map(\"${:,.2f}\".format)\n",
    "    new_df['Percent Change'] = new_df['Percent Change'].map(\"{:.2%}\".format)\n",
    "    \n",
    "    return new_df.to_csv ('california_df.csv', index = False, header=True)"
   ]
  },
  {
   "cell_type": "code",
   "execution_count": 8,
   "metadata": {},
   "outputs": [],
   "source": [
    "ETLCSV('California')"
   ]
  },
  {
   "cell_type": "code",
   "execution_count": null,
   "metadata": {},
   "outputs": [],
   "source": []
  }
 ],
 "metadata": {
  "kernelspec": {
   "display_name": "PythonData",
   "language": "python",
   "name": "pythondata"
  },
  "language_info": {
   "codemirror_mode": {
    "name": "ipython",
    "version": 3
   },
   "file_extension": ".py",
   "mimetype": "text/x-python",
   "name": "python",
   "nbconvert_exporter": "python",
   "pygments_lexer": "ipython3",
   "version": "3.7.4"
  }
 },
 "nbformat": 4,
 "nbformat_minor": 4
}
